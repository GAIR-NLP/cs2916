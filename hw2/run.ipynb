{
 "cells": [
  {
   "cell_type": "code",
   "execution_count": null,
   "id": "c4ce4b07-c569-426a-a2e1-7ea8606d5b8c",
   "metadata": {
    "ExecutionIndicator": {
     "show": false
    },
    "execution": {
     "iopub.execute_input": "2024-03-27T14:58:16.893521Z",
     "iopub.status.busy": "2024-03-27T14:58:16.893188Z",
     "iopub.status.idle": "2024-03-27T14:58:17.943017Z",
     "shell.execute_reply": "2024-03-27T14:58:17.941016Z",
     "shell.execute_reply.started": "2024-03-27T14:58:16.893501Z"
    },
    "tags": []
   },
   "outputs": [],
   "source": [
    "!cd /mnt/workspace\n",
    "!source ~/.bashrc\n",
    "!conda env list\n",
    "\n",
    "# install sft code base\n",
    "!git clone https://github.com/hiyouga/LLaMA-Factory.git\n",
    "!cd LLaMA-Factory/\n",
    "!pip install -r requirements.txt\n",
    "!cd ..\n",
    "\n",
    "# install alpaca eval\n",
    "!git clone https://github.com/tatsu-lab/alpaca_eval.git\n",
    "!cd alpaca_eval/\n",
    "!pip install -e .\n",
    "!cd ..\n",
    "\n",
    "!pip install scikit-learn=1.4.0\n",
    "\n",
    "!export OPENAI_API_BASE=<YOUR_OPENAI_API_BASE>\n",
    "!export OPENAI_API_KEY=<YOUR_OPENAI_API_KEY>\n",
    "!export MODELSCOPE_CACHE=/mnt/workspace/modelscope_hub\n",
    "!export HF_ENDPOINT=https://hf-mirror.com\n"
   ]
  },
  {
   "cell_type": "code",
   "execution_count": null,
   "id": "3180d5b1-c08c-4ce8-a496-00eda536863e",
   "metadata": {},
   "outputs": [],
   "source": [
    "!cp -r /mnt/workspace/hw2/mini_lima/ /mnt/workspace/alpaca_eval/src/alpaca_eval/models_configs/"
   ]
  },
  {
   "cell_type": "code",
   "execution_count": null,
   "id": "282c2bfc-944a-4419-9c17-0e36c0a7f3d7",
   "metadata": {},
   "outputs": [],
   "source": [
    "from modelscope.models import Model\n",
    "model = Model.from_pretrained('qwen/Qwen1.5-0.5B-Chat')"
   ]
  },
  {
   "cell_type": "code",
   "execution_count": null,
   "id": "ee5f3dee-47fb-4739-bad0-037d11cb6f99",
   "metadata": {
    "execution": {
     "iopub.execute_input": "2024-03-27T15:05:36.123337Z",
     "iopub.status.busy": "2024-03-27T15:05:36.122971Z"
    },
    "tags": []
   },
   "outputs": [],
   "source": [
    "!alpaca_eval evaluate_from_model \\\n",
    "  --model_configs 'mini_lima' \\\n",
    "  --annotators_config 'chatgpt'"
   ]
  }
 ],
 "metadata": {
  "kernelspec": {
   "display_name": "Python 3 (ipykernel)",
   "language": "python",
   "name": "python3"
  },
  "language_info": {
   "codemirror_mode": {
    "name": "ipython",
    "version": 3
   },
   "file_extension": ".py",
   "mimetype": "text/x-python",
   "name": "python",
   "nbconvert_exporter": "python",
   "pygments_lexer": "ipython3",
   "version": "3.10.13"
  }
 },
 "nbformat": 4,
 "nbformat_minor": 5
}
